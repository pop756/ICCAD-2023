{
 "cells": [
  {
   "cell_type": "markdown",
   "metadata": {},
   "source": [
    "# Example Notebook For VQE Code\n",
    "This notebook runs VQE using qiskit aer simulator primitives.  \n",
    "It automatically reduces the number of qubits required for problem hamiltonian\n",
    "using `tapering` method.  \n",
    "It removes some less important components in hamiltonian to make more symmetry and reduce the hamiltonian into `6 qubit hamiltonian`.  \n",
    "Also aultomatically group the hamiltonian for shot cost effectiveness.  \n",
    "Lastly, `Reference State Error Mitigation (REM)` is used for improving result."
   ]
  },
  {
   "cell_type": "markdown",
   "metadata": {},
   "source": [
    "### Importing Necessary Packages\n",
    "It uses `qiskit`, `qiskit_nature` and `qiskit_aer` packages for quantum simulation"
   ]
  },
  {
   "cell_type": "code",
   "execution_count": 1,
   "metadata": {},
   "outputs": [],
   "source": [
    "import warnings\n",
    "warnings.filterwarnings('ignore')\n",
    "\n",
    "import os\n",
    "import pickle\n",
    "import numpy as np\n",
    "import matplotlib.pyplot as plt\n",
    "\n",
    "from qiskit_nature.units import DistanceUnit\n",
    "from qiskit_nature.second_q.drivers import PySCFDriver\n",
    "from qiskit_nature.second_q.mappers import JordanWignerMapper\n",
    "\n",
    "from qiskit import Aer, QuantumCircuit, transpile, pulse\n",
    "from qiskit_aer.primitives import Sampler\n",
    "from qiskit.utils import algorithm_globals\n",
    "from qiskit.providers.fake_provider import *\n",
    "import qiskit_aer.noise as noise\n",
    "from qiskit.circuit.library import *"
   ]
  },
  {
   "cell_type": "markdown",
   "metadata": {},
   "source": [
    "The file `Qubit_taper.py` includes the core functions for our team's submission. \\\n",
    "If the `Qubit_taper.py` file is not in the same directory, path should be appended.  \n",
    "\n",
    "```python\n",
    "import sys\n",
    "sys.path.append('path/to/directory')\n",
    "import Qubit_taper as Q\n",
    "```"
   ]
  },
  {
   "cell_type": "code",
   "execution_count": 2,
   "metadata": {},
   "outputs": [],
   "source": [
    "import Qubit_taper as Q"
   ]
  },
  {
   "cell_type": "code",
   "execution_count": 3,
   "metadata": {},
   "outputs": [],
   "source": [
    "path_hamiltonian = 'hamiltonian/OHhamiltonian.txt'\n",
    "path_noise_model = {\n",
    "  'cairo': 'noise_model/fakecairo.pkl',\n",
    "  'montreal': 'noise_model/fakemontreal.pkl',\n",
    "  'kolkata': 'noise_model/fakekolkata.pkl'\n",
    "}\n",
    "path_seeds = 'algorithm_seeds/requiredseeds.txt'\n",
    "dir_qasm = 'qasm'"
   ]
  },
  {
   "cell_type": "markdown",
   "metadata": {},
   "source": [
    "### Extracting Hamiltonian\n",
    "We can get problem hamiltonian using pyscf or simply extract from `OHhamiltonian.txt` file."
   ]
  },
  {
   "cell_type": "code",
   "execution_count": 4,
   "metadata": {},
   "outputs": [
    {
     "name": "stderr",
     "output_type": "stream",
     "text": [
      "/home/dhkim/anaconda3/envs/qiskit/lib/python3.11/site-packages/qiskit_nature/deprecation.py:297: PauliSumOpDeprecationWarning: PauliSumOp is deprecated as of version 0.6.0 and support for them will be removed no sooner than 3 months after the release. Instead, use SparsePauliOp. You can switch to SparsePauliOp immediately, by setting `qiskit_nature.settings.use_pauli_sum_op` to `False`.\n",
      "  return func(*args, **kwargs)\n"
     ]
    }
   ],
   "source": [
    "ultra_simplified_ala_string = \"\"\"\n",
    "O 0.0 0.0 0.0\n",
    "H 0.45 -0.1525 -0.8454\n",
    "\"\"\"\n",
    "driver = PySCFDriver(\n",
    "    atom = ultra_simplified_ala_string.strip(),\n",
    "    basis='sto3g',\n",
    "    charge=1,\n",
    "    spin=0,\n",
    "    unit=DistanceUnit.ANGSTROM\n",
    ")\n",
    "problem = driver.run()\n",
    "fermionic_op = problem.hamiltonian.second_q_op()\n",
    "mapper = JordanWignerMapper()\n",
    "hamiltonian = mapper.map(fermionic_op)"
   ]
  },
  {
   "cell_type": "code",
   "execution_count": 5,
   "metadata": {},
   "outputs": [],
   "source": [
    "try:\n",
    "    with open(path_hamiltonian, 'r') as file:\n",
    "        file_contents = file.read()\n",
    "except FileNotFoundError:\n",
    "    print(f\"Can't find the file: {path_hamiltonian}\")\n",
    "except Exception as e:\n",
    "    print(f\"Can't read the file: {str(e)}\")"
   ]
  },
  {
   "cell_type": "code",
   "execution_count": 6,
   "metadata": {},
   "outputs": [],
   "source": [
    "hamiltonian = Q.extract(file_contents,12)\n",
    "electron = (5,4)"
   ]
  },
  {
   "cell_type": "markdown",
   "metadata": {},
   "source": [
    "### Tapering the hamiltonian\n",
    "We tapered the problem hamiltonian assuming nine electrons in the system.  \n",
    "Which resulted in 8 qubit hamiltonian"
   ]
  },
  {
   "cell_type": "code",
   "execution_count": 7,
   "metadata": {},
   "outputs": [
    {
     "name": "stdout",
     "output_type": "stream",
     "text": [
      "Number of Qubits before tapered : 12\n",
      "Number of Qubits after tapered : 8\n"
     ]
    }
   ],
   "source": [
    "generator = Q.find_ZZ_sym(hamiltonian)\n",
    "Tapered_ham = Q.taper(hamiltonian,generator,electron)\n",
    "\n",
    "print(f\"Number of Qubits before tapered : {hamiltonian.num_qubits}\")\n",
    "print(f\"Number of Qubits after tapered : {Tapered_ham.num_qubits}\")"
   ]
  },
  {
   "cell_type": "markdown",
   "metadata": {},
   "source": [
    "For further reduction of hamiltonian size, we removed single X pauli strings in hamiltonian.  \n",
    "As these single X paulis have little contribution on total energy, we could approximate the result.  \n",
    "By removing those terms, we could again reduce hamiltonian removing one more qubit.  \n",
    "  \n",
    "For this problem, we checked how much of energy changes using classical solver."
   ]
  },
  {
   "cell_type": "code",
   "execution_count": 8,
   "metadata": {},
   "outputs": [],
   "source": [
    "def ground_energy(hamiltonian):\n",
    "    return np.linalg.eigvals(hamiltonian.to_matrix()).min().item().real"
   ]
  },
  {
   "cell_type": "code",
   "execution_count": 9,
   "metadata": {},
   "outputs": [
    {
     "name": "stdout",
     "output_type": "stream",
     "text": [
      "Diffrence between X_remove and origianl : 0.0021092312080810416\n"
     ]
    }
   ],
   "source": [
    "X_removed_ham = Q.Single_X_remove(Tapered_ham)\n",
    "X_removed_ham = Q.find_only_XX(X_removed_ham)\n",
    "\n",
    "print(f\"Diffrence between X_remove and origianl : {abs(ground_energy(X_removed_ham)-ground_energy(Tapered_ham))}\")"
   ]
  },
  {
   "cell_type": "code",
   "execution_count": 10,
   "metadata": {},
   "outputs": [
    {
     "name": "stdout",
     "output_type": "stream",
     "text": [
      "Number of Qubits before tapered : 8\n",
      "Number of Qubits after tapered : 7\n"
     ]
    }
   ],
   "source": [
    "generator = Q.find_ZZ_sym(X_removed_ham)\n",
    "X_Tapered_ham = Q.taper(X_removed_ham,generator,electron)\n",
    "\n",
    "print(f\"Number of Qubits before tapered : {Tapered_ham.num_qubits}\")\n",
    "print(f\"Number of Qubits after tapered : {X_Tapered_ham.num_qubits}\")"
   ]
  },
  {
   "cell_type": "code",
   "execution_count": 11,
   "metadata": {},
   "outputs": [],
   "source": [
    "## Return tapered hamiltonian and Fock state at tapered\n",
    "taper_ham, hatree = Q.taper_X_remove(hamiltonian,3,electron)"
   ]
  },
  {
   "cell_type": "code",
   "execution_count": 12,
   "metadata": {},
   "outputs": [
    {
     "data": {
      "image/png": "[encoded data removed]",
      "text/plain": [
       "<Figure size 640x480 with 1 Axes>"
      ]
     },
     "metadata": {},
     "output_type": "display_data"
    }
   ],
   "source": [
    "Q_list = []\n",
    "result_list = []\n",
    "generator = Q.find_ZZ_sym(hamiltonian)\n",
    "Tapered_ham = Q.taper(hamiltonian,generator,electron)\n",
    "ref = ground_energy(Tapered_ham)\n",
    "\n",
    "for i in range(6):\n",
    "    try:\n",
    "        taper_ham_temp, hatree1 = Q.taper_X_remove(hamiltonian,i+1,electron)\n",
    "        result_list.append(abs(ref-ground_energy(taper_ham_temp)))\n",
    "        Q_list.append(int(taper_ham_temp.num_qubits))\n",
    "    except:\n",
    "        break\n",
    "\n",
    "plt.xlabel('Num_qubits')\n",
    "plt.ylabel('Error')\n",
    "plt.xticks(Q_list)\n",
    "plt.plot(Q_list,result_list,'--',label=f\"OH removed_X\",marker='*')\n",
    "plt.title(f'Reference: {ref:.4f}')\n",
    "plt.legend()\n",
    "plt.show()"
   ]
  },
  {
   "cell_type": "markdown",
   "metadata": {},
   "source": [
    "### Results From Other Molecules"
   ]
  },
  {
   "cell_type": "markdown",
   "metadata": {},
   "source": [
    "![image.png](images/taper_OHH.png) ![image-2.png](images/taper_NeH.png) ![image-3.png](images/taper_HF.png) ![image-4.png](images/taper_CHH.png)"
   ]
  },
  {
   "cell_type": "markdown",
   "metadata": {},
   "source": [
    "### Grouping The Hamiltonian\n",
    "we grouped hamiltonian using graph method.  \n",
    "We made represented Pauli terms in hamiltonian as nodes in graph and single commutation between Pauli terms as edges.  \n",
    "And found each closed part, which is group of hamiltoian.  \n",
    "  \n",
    "As the finding the optimal number of group is NP hard problem, we used complement(G), which can find the groups easily but does not guarantee the best grouping.\n",
    "\n",
    "We could group the hamiltonian into `19 parts`"
   ]
  },
  {
   "cell_type": "code",
   "execution_count": 13,
   "metadata": {},
   "outputs": [
    {
     "name": "stdout",
     "output_type": "stream",
     "text": [
      "Observation number before :  101\n",
      "Observation number grouping :  19\n"
     ]
    }
   ],
   "source": [
    "g_ham = Q.group_ham(taper_ham)\n",
    "\n",
    "print(\"Observation number before : \",len(taper_ham))\n",
    "print(\"Observation number grouping : \",len(g_ham))"
   ]
  },
  {
   "cell_type": "markdown",
   "metadata": {},
   "source": [
    "### Running Ideal Simulation\n",
    "We conducted the ideal quantum simulation using qiskit aer simulator sampler primitive.  \n",
    "  \n",
    "For ansatz, we made our own `number-preserving ansatz` which consists of some X gates for initial state and `XXplusYY` gates.  \n",
    "Our custom ansatz is motivated from problem hamiltonian.  \n",
    "We chose pauli string representing exchange of state (or excitation and relaxation of electron)  \n",
    "and those having a coefficient bigger than threshold are included in our ansatz"
   ]
  },
  {
   "cell_type": "code",
   "execution_count": 14,
   "metadata": {},
   "outputs": [],
   "source": [
    "seeds = 170\n",
    "algorithm_globals.random_seed = seeds\n",
    "seed_transpiler = seeds\n",
    "iterations = 125\n",
    "shot = 30000\n",
    "simulator = Aer.get_backend('aer_simulator_statevector')"
   ]
  },
  {
   "cell_type": "code",
   "execution_count": 15,
   "metadata": {},
   "outputs": [],
   "source": [
    "sampler = Sampler(\n",
    "    backend_options = {\n",
    "        'method': 'statevector',\n",
    "        'device': 'CPU'\n",
    "    },\n",
    "    run_options = {\n",
    "        'shots': shot,\n",
    "        'seed': seeds,\n",
    "    },\n",
    "    transpile_options = {\n",
    "        'seed_transpiler':seed_transpiler\n",
    "    }\n",
    ")\n",
    "itter = [0]\n",
    "counts = []\n",
    "values = []\n",
    "paras = []\n",
    "def cb(exp_value, para):\n",
    "    print(\"itteration count : \",itter[0])\n",
    "    counts.append(itter[0])\n",
    "    values.append(exp_value)\n",
    "    print(\"E_val : \" ,values[-1])\n",
    "    paras.append(para)\n",
    "    itter[0] += 1     \n",
    "    "
   ]
  },
  {
   "cell_type": "code",
   "execution_count": 16,
   "metadata": {},
   "outputs": [
    {
     "data": {
      "text/html": [
       "<pre style=\"word-wrap: normal;white-space: pre;background: #fff0;line-height: 1.1;font-family: &quot;Courier New&quot;,Courier,monospace\">     ┌───┐┌───────────────┐\n",
       "q_0: ┤ X ├┤1              ├\n",
       "     ├───┤│               │\n",
       "q_1: ┤ X ├┤               ├\n",
       "     ├───┤│  Givens(T[0]) │\n",
       "q_2: ┤ X ├┤               ├\n",
       "     └───┘│               │\n",
       "q_3: ─────┤0              ├\n",
       "     ┌───┐├───────────────┤\n",
       "q_4: ┤ X ├┤0              ├\n",
       "     └───┘│  Givens(T[1]) │\n",
       "q_5: ─────┤1              ├\n",
       "          └───────────────┘</pre>"
      ],
      "text/plain": [
       "     ┌───┐┌───────────────┐\n",
       "q_0: ┤ X ├┤1              ├\n",
       "     ├───┤│               │\n",
       "q_1: ┤ X ├┤               ├\n",
       "     ├───┤│  Givens(T[0]) │\n",
       "q_2: ┤ X ├┤               ├\n",
       "     └───┘│               │\n",
       "q_3: ─────┤0              ├\n",
       "     ┌───┐├───────────────┤\n",
       "q_4: ┤ X ├┤0              ├\n",
       "     └───┘│  Givens(T[1]) │\n",
       "q_5: ─────┤1              ├\n",
       "          └───────────────┘"
      ]
     },
     "execution_count": 16,
     "metadata": {},
     "output_type": "execute_result"
    }
   ],
   "source": [
    "ansatz = Q.EF_ansatz(taper_ham,hatree,Fraction=1/10,reverse=True)\n",
    "ansatz.draw()"
   ]
  },
  {
   "cell_type": "code",
   "execution_count": 17,
   "metadata": {},
   "outputs": [
    {
     "name": "stdout",
     "output_type": "stream",
     "text": [
      "itteration count :  0\n",
      "E_val :  -78.67658871708596\n",
      "itteration count :  1\n",
      "E_val :  -78.05417184033692\n",
      "itteration count :  2\n",
      "E_val :  -78.0798924636897\n",
      "itteration count :  3\n",
      "E_val :  -77.41272536593065\n",
      "itteration count :  4\n",
      "E_val :  -78.05909218957058\n",
      "itteration count :  5\n",
      "E_val :  -78.65359319278438\n",
      "itteration count :  6\n",
      "E_val :  -78.67764379177015\n",
      "itteration count :  7\n",
      "E_val :  -78.65645427457711\n",
      "itteration count :  8\n",
      "E_val :  -78.65693245707817\n",
      "itteration count :  9\n",
      "E_val :  -78.67545978984062\n",
      "itteration count :  10\n",
      "E_val :  -78.66622839024619\n",
      "itteration count :  11\n",
      "E_val :  -78.70269149879107\n",
      "itteration count :  12\n",
      "E_val :  -78.71360376566692\n",
      "itteration count :  13\n",
      "E_val :  -78.7106042947667\n",
      "itteration count :  14\n",
      "E_val :  -78.69696159078468\n",
      "itteration count :  15\n",
      "E_val :  -78.71294348376074\n",
      "itteration count :  16\n",
      "E_val :  -78.70937008474101\n",
      "itteration count :  17\n",
      "E_val :  -78.7133707183811\n",
      "itteration count :  18\n",
      "E_val :  -78.71261652771625\n",
      "itteration count :  19\n",
      "E_val :  -78.71254298313445\n",
      "itteration count :  20\n",
      "E_val :  -78.71301135275799\n",
      "itteration count :  21\n",
      "E_val :  -78.71257228674104\n",
      "itteration count :  22\n",
      "E_val :  -78.71265414145277\n",
      "itteration count :  23\n",
      "E_val :  -78.71176600510627\n",
      "itteration count :  24\n",
      "E_val :  -78.71047416881925\n",
      "itteration count :  25\n",
      "E_val :  -78.71245372173837\n",
      "itteration count :  26\n",
      "E_val :  -78.71244849537898\n",
      "itteration count :  27\n",
      "E_val :  -78.71272556788874\n",
      "itteration count :  28\n",
      "E_val :  -78.71334722557054\n",
      "itteration count :  29\n",
      "E_val :  -78.71317745082689\n",
      "itteration count :  30\n",
      "E_val :  -78.7132434332266\n",
      "itteration count :  31\n",
      "E_val :  -78.71361088612083\n"
     ]
    }
   ],
   "source": [
    "from scipy.optimize import minimize\n",
    "Init_pt = [0]*ansatz.num_parameters\n",
    "Optimum = minimize(Q.expectation_value_circ,Init_pt,args=(ansatz,g_ham,sampler,cb),method='COBYLA',options={\"maxiter\":5000,\"rhobeg\":np.pi,'eps':0.000005})"
   ]
  },
  {
   "cell_type": "code",
   "execution_count": 18,
   "metadata": {},
   "outputs": [
    {
     "name": "stdout",
     "output_type": "stream",
     "text": [
      "minimum value :  -78.71361088612083\n",
      "Error tapered optimal value:  0.020860821466172297\n",
      "Optimum point :  [0.10147891 0.38121962]\n"
     ]
    }
   ],
   "source": [
    "print(\"minimum value : \",np.array(values).min())\n",
    "print(\"Error tapered optimal value: \",abs(ground_energy(taper_ham)-np.array(values).min()))\n",
    "print(\"Optimum point : \", paras[np.array(values).argmin()])"
   ]
  },
  {
   "cell_type": "markdown",
   "metadata": {},
   "source": [
    "### Running Noisy Simulation & Readout Error Mitigation\n",
    "One of the mitigation techniques widely used in superconducting qubit system is readout error mitigation.  \n",
    "There are many types of readout error mitigation techniques but we used simple method of applying inverse of readout matrix.  \n",
    "Readout Error matrix was extracted from noise model.\n",
    "\n",
    "Also, we changed the hamiltonian's Z paulis into -Z.  \n",
    "By this simple trick, we can change all 1 states in initial and final quantum states into 0 states.  \n",
    "Because qubits in 1 state tends to drop into 0 state, more 0 states in quantum circuit means less errors.  \n",
    "As we can easily calculate Fock state of hamiltonian and it need more 1 state than 0 state, this trick can be helpful."
   ]
  },
  {
   "cell_type": "code",
   "execution_count": 19,
   "metadata": {},
   "outputs": [],
   "source": [
    "with open(path_noise_model['montreal'], 'rb') as file:\n",
    "    noise_model_dict = pickle.load(file)\n",
    "noise_model = noise.NoiseModel.from_dict(noise_model_dict)"
   ]
  },
  {
   "cell_type": "code",
   "execution_count": 20,
   "metadata": {},
   "outputs": [],
   "source": [
    "if hatree.count(1)>hatree.count(0):\n",
    "    taper_ham_noisy = Q.Z_exchange(taper_ham)\n",
    "    hatree_noisy = []\n",
    "    for value in hatree:\n",
    "        if value == 0:\n",
    "            hatree_noisy.append(1)\n",
    "        else:\n",
    "            hatree_noisy.append(0)\n",
    "else:\n",
    "    taper_ham_noisy = taper_ham\n",
    "    hatree_noisy = hatree"
   ]
  },
  {
   "cell_type": "code",
   "execution_count": 21,
   "metadata": {},
   "outputs": [
    {
     "data": {
      "text/html": [
       "<pre style=\"word-wrap: normal;white-space: pre;background: #fff0;line-height: 1.1;font-family: &quot;Courier New&quot;,Courier,monospace\">          ┌───────────────┐\n",
       "q_0: ─────┤1              ├\n",
       "          │               │\n",
       "q_1: ─────┤               ├\n",
       "          │  Givens(T[0]) │\n",
       "q_2: ─────┤               ├\n",
       "     ┌───┐│               │\n",
       "q_3: ┤ X ├┤0              ├\n",
       "     └───┘├───────────────┤\n",
       "q_4: ─────┤0              ├\n",
       "     ┌───┐│  Givens(T[1]) │\n",
       "q_5: ┤ X ├┤1              ├\n",
       "     └───┘└───────────────┘</pre>"
      ],
      "text/plain": [
       "          ┌───────────────┐\n",
       "q_0: ─────┤1              ├\n",
       "          │               │\n",
       "q_1: ─────┤               ├\n",
       "          │  Givens(T[0]) │\n",
       "q_2: ─────┤               ├\n",
       "     ┌───┐│               │\n",
       "q_3: ┤ X ├┤0              ├\n",
       "     └───┘├───────────────┤\n",
       "q_4: ─────┤0              ├\n",
       "     ┌───┐│  Givens(T[1]) │\n",
       "q_5: ┤ X ├┤1              ├\n",
       "     └───┘└───────────────┘"
      ]
     },
     "execution_count": 21,
     "metadata": {},
     "output_type": "execute_result"
    }
   ],
   "source": [
    "ansatz_noisy = Q.EF_ansatz(taper_ham_noisy,hatree_noisy,Fraction=1/10,reverse=True)\n",
    "g_ham_noisy = Q.group_ham(taper_ham_noisy)\n",
    "ansatz_noisy.draw()"
   ]
  },
  {
   "cell_type": "code",
   "execution_count": 22,
   "metadata": {},
   "outputs": [
    {
     "name": "stdout",
     "output_type": "stream",
     "text": [
      "Qubit use in real backend :  [26, 0, 1, 25, 13, 14]\n"
     ]
    }
   ],
   "source": [
    "## find the best point in fake backend\n",
    "ansatz_noisy = transpile(ansatz_noisy,basis_gates=['x', 'sx', 'id', 'cx','rz'],optimization_level=3)\n",
    "ansatz_hardware = transpile(ansatz_noisy,backend=FakeMontreal(),optimization_level=3)\n",
    "qubit_location = [1,2,3,4,5,6]\n",
    "for i in range(27):\n",
    "    if ansatz_hardware._layout.initial_layout[i].register.name == 'q':\n",
    "        qubit_location[ansatz_hardware._layout.initial_layout[i].index] = i\n",
    "    \n",
    "print(\"Qubit use in real backend : \",qubit_location)"
   ]
  },
  {
   "cell_type": "code",
   "execution_count": 23,
   "metadata": {},
   "outputs": [],
   "source": [
    "itter = [0]\n",
    "counts = []\n",
    "values = []\n",
    "paras = []\n",
    "sampler_noisy = Sampler(\n",
    "    backend_options = {\n",
    "        'method': 'statevector',\n",
    "        'device': 'CPU',\n",
    "        'noise_model': noise_model,\n",
    "    },\n",
    "    run_options = {\n",
    "        'shots': shot,\n",
    "        'seed': seeds,\n",
    "    },\n",
    "    transpile_options = {\n",
    "        'seed_transpiler':seed_transpiler,\n",
    "        'optimization_level':0,\n",
    "    }\n",
    ")"
   ]
  },
  {
   "cell_type": "code",
   "execution_count": 24,
   "metadata": {},
   "outputs": [
    {
     "name": "stdout",
     "output_type": "stream",
     "text": [
      "itteration count :  0\n",
      "E_val :  -77.97983205512668\n",
      "itteration count :  1\n",
      "E_val :  -77.1842351720578\n",
      "itteration count :  2\n",
      "E_val :  -77.386504711695\n",
      "itteration count :  3\n",
      "E_val :  -76.51547988568365\n",
      "itteration count :  4\n",
      "E_val :  -77.54928753626776\n",
      "itteration count :  5\n",
      "E_val :  -77.7007385039841\n",
      "itteration count :  6\n",
      "E_val :  -77.71115502249876\n",
      "itteration count :  7\n",
      "E_val :  -77.84139791799171\n",
      "itteration count :  8\n",
      "E_val :  -77.94052126109207\n",
      "itteration count :  9\n",
      "E_val :  -77.81869732112632\n",
      "itteration count :  10\n",
      "E_val :  -77.96857434886765\n",
      "itteration count :  11\n",
      "E_val :  -77.97248360743143\n",
      "itteration count :  12\n",
      "E_val :  -77.972265629608\n",
      "itteration count :  13\n",
      "E_val :  -77.98302497529946\n",
      "itteration count :  14\n",
      "E_val :  -77.98676405680628\n",
      "itteration count :  15\n",
      "E_val :  -77.98927895073905\n",
      "itteration count :  16\n",
      "E_val :  -77.9864101107779\n",
      "itteration count :  17\n",
      "E_val :  -77.99303034423248\n",
      "itteration count :  18\n",
      "E_val :  -77.99685033422216\n",
      "itteration count :  19\n",
      "E_val :  -77.99725329749138\n",
      "itteration count :  20\n",
      "E_val :  -78.00070205381341\n",
      "itteration count :  21\n",
      "E_val :  -78.00171239178098\n",
      "itteration count :  22\n",
      "E_val :  -78.00216430241629\n",
      "itteration count :  23\n",
      "E_val :  -78.00349616727227\n",
      "itteration count :  24\n",
      "E_val :  -78.00197745799527\n",
      "itteration count :  25\n",
      "E_val :  -78.00605273391832\n",
      "itteration count :  26\n",
      "E_val :  -78.00925049921328\n",
      "itteration count :  27\n",
      "E_val :  -78.01056579590737\n",
      "itteration count :  28\n",
      "E_val :  -78.01029803933538\n",
      "itteration count :  29\n",
      "E_val :  -78.0135435672026\n",
      "itteration count :  30\n",
      "E_val :  -78.01825747958051\n",
      "itteration count :  31\n",
      "E_val :  -78.021476098223\n",
      "itteration count :  32\n",
      "E_val :  -78.0253464638998\n",
      "itteration count :  33\n",
      "E_val :  -78.02966623816732\n",
      "itteration count :  34\n",
      "E_val :  -78.03230087749172\n",
      "itteration count :  35\n",
      "E_val :  -78.03203668182252\n",
      "itteration count :  36\n",
      "E_val :  -78.03408379447445\n",
      "itteration count :  37\n",
      "E_val :  -78.03597482803379\n",
      "itteration count :  38\n",
      "E_val :  -78.03525361271888\n",
      "itteration count :  39\n",
      "E_val :  -78.03549358779004\n",
      "itteration count :  40\n",
      "E_val :  -78.03515609005592\n",
      "itteration count :  41\n",
      "E_val :  -78.035501842916\n",
      "itteration count :  42\n",
      "E_val :  -78.03626316073431\n",
      "itteration count :  43\n",
      "E_val :  -78.03607396896284\n",
      "itteration count :  44\n",
      "E_val :  -78.03582937232824\n",
      "itteration count :  45\n",
      "E_val :  -78.03627960789444\n",
      "itteration count :  46\n",
      "E_val :  -78.03633332854183\n",
      "itteration count :  47\n",
      "E_val :  -78.03640196488523\n",
      "itteration count :  48\n",
      "E_val :  -78.03603477865886\n",
      "itteration count :  49\n",
      "E_val :  -78.03647884906658\n",
      "itteration count :  50\n",
      "E_val :  -78.03656194905632\n",
      "itteration count :  51\n",
      "E_val :  -78.03563169908587\n",
      "itteration count :  52\n",
      "E_val :  -78.03635810006797\n",
      "itteration count :  53\n",
      "E_val :  -78.03657223210101\n",
      "itteration count :  54\n",
      "E_val :  -78.03659283233299\n",
      "itteration count :  55\n",
      "E_val :  -78.03611557276423\n",
      "itteration count :  56\n",
      "E_val :  -78.03657959678648\n",
      "itteration count :  57\n",
      "E_val :  -78.03653485676526\n"
     ]
    }
   ],
   "source": [
    "itter = [0]\n",
    "counts = []\n",
    "values = []\n",
    "paras = []\n",
    "Init_pt = [0 , 0]\n",
    "Optimum = minimize(\n",
    "    Q.expectation_value_circ_err_mit,\n",
    "    Init_pt,\n",
    "    args=(ansatz_noisy,g_ham_noisy,sampler_noisy,qubit_location,noise_model,True,True,cb),\n",
    "    method='COBYLA',\n",
    "    options={\"maxiter\":300,\"rhobeg\":np.pi,'eps':0.0001}\n",
    ")"
   ]
  },
  {
   "cell_type": "markdown",
   "metadata": {},
   "source": [
    "### Reference Error Mitigation\n",
    "Lolur, Phalgun, et al. \"Reference-State Error Mitigation: A Strategy for High Accuracy Quantum Computation of Chemistry.\" Journal of Chemical Theory and Computation 19.3 (2023): 783-789.  \n",
    "<https://arxiv.org/abs/2203.14756>  \n",
    "\n",
    "Reference Error Mitigation technique utilizes ease of Fock state energy calculation.  \n",
    "By comparing Fock state's ideal and noisy energy value and using the offset as a reference of noise, we can mitigate our resulting state's energy.\n",
    "\n"
   ]
  },
  {
   "cell_type": "code",
   "execution_count": 25,
   "metadata": {},
   "outputs": [],
   "source": [
    "Ref_value = Q.hatree_value(hatree,taper_ham) ## calculate classcially (Cost O(N^2))\n",
    "Correct_factor = Ref_value - values[0]\n",
    "Mitigatied_value =  np.array(values).min() + Correct_factor "
   ]
  },
  {
   "cell_type": "code",
   "execution_count": 26,
   "metadata": {},
   "outputs": [
    {
     "name": "stdout",
     "output_type": "stream",
     "text": [
      "NISQ value with mitigation :  -78.73499081063821\n"
     ]
    }
   ],
   "source": [
    "print(\"NISQ value with mitigation : \",Mitigatied_value[0].real)"
   ]
  },
  {
   "cell_type": "markdown",
   "metadata": {},
   "source": [
    "### Calculating The Accuracy (Most Important Metric)\n",
    "According to scoring criteria, we calculated the ground state energy estimation accuracy."
   ]
  },
  {
   "cell_type": "code",
   "execution_count": 28,
   "metadata": {},
   "outputs": [
    {
     "name": "stdout",
     "output_type": "stream",
     "text": [
      "Estimation accuracy : 99.97643352812119%\n"
     ]
    }
   ],
   "source": [
    "ref_value = -74.38714627\n",
    "result = Mitigatied_value[0] + 4.36537496654537\n",
    "accuracy = (1 - abs((ref_value - result) / ref_value)) * 100\n",
    "print(f\"Estimation accuracy : {accuracy}%\")"
   ]
  },
  {
   "cell_type": "markdown",
   "metadata": {},
   "source": [
    "### Obtaining The Duration Of Quantum Circuit"
   ]
  },
  {
   "cell_type": "code",
   "execution_count": 29,
   "metadata": {},
   "outputs": [
    {
     "data": {
      "text/plain": [
       "5056"
      ]
     },
     "execution_count": 29,
     "metadata": {},
     "output_type": "execute_result"
    }
   ],
   "source": [
    "from qiskit.providers.fake_provider import *\n",
    "backend = FakeMontreal()\n",
    "\n",
    "with pulse.build(backend) as my_program1:\n",
    "  pulse.call(ansatz_noisy)\n",
    "\n",
    "my_program1.duration"
   ]
  },
  {
   "cell_type": "markdown",
   "metadata": {},
   "source": [
    "### QASM Result\n",
    "As we utilized Reference State Error Mitigation technique, energy value from different backend can be largely different from optimal value."
   ]
  },
  {
   "cell_type": "markdown",
   "metadata": {},
   "source": [
    "Fakecairo"
   ]
  },
  {
   "cell_type": "code",
   "execution_count": 34,
   "metadata": {},
   "outputs": [],
   "source": [
    "with open(path_noise_model['cairo'], 'rb') as file:\n",
    "    noise_model = pickle.load(file)\n",
    "noise_model1 = noise.NoiseModel()\n",
    "noise_modelreal = noise_model1.from_dict(noise_model)\n",
    "sampler_noisy = Sampler(\n",
    "    backend_options = {\n",
    "        'method': 'statevector',\n",
    "        'device': 'CPU',\n",
    "        'noise_model': noise_modelreal,\n",
    "    },\n",
    "    run_options = {\n",
    "        'shots': shot,\n",
    "        'seed': seeds,\n",
    "    },\n",
    "    transpile_options = {\n",
    "        'seed_transpiler':seed_transpiler,\n",
    "        'optimization_level':0,\n",
    "    }\n",
    ")"
   ]
  },
  {
   "cell_type": "code",
   "execution_count": 36,
   "metadata": {},
   "outputs": [
    {
     "name": "stdout",
     "output_type": "stream",
     "text": [
      "before mitgate : -78.57631936045884\n",
      "after mitigate :  -78.70824924686569\n"
     ]
    }
   ],
   "source": [
    "qc = QuantumCircuit.from_qasm_file(os.path.join(dir_qasm, 'cairo_QASM'))\n",
    "ansatz_hardware = transpile(ansatz_noisy,backend=FakeCairo(),optimization_level=3)\n",
    "### our optimized location\n",
    "qubit_location = [24, 0, 1, 23, 12, 10]\n",
    "res = Q.expectation_value_circ_err_mit([0,0],qc,g_ham_noisy,sampler_noisy,qubit_location, noise_modelreal, True, True)   \n",
    "\n",
    "## get result before REM\n",
    "print(\"before mitgate :\",res )\n",
    "\n",
    "## REM\n",
    "Ref_value = Q.hatree_value(hatree,taper_ham) ## calculate classcially (Cost O(N^2))\n",
    "Correct_factor = Ref_value - Q.expectation_value_circ_err_mit([0,0],ansatz_noisy,g_ham_noisy,sampler_noisy,qubit_location, noise_modelreal, True, True)\n",
    "Mitigatied_value =  res + Correct_factor \n",
    "print(\"after mitigate : \",Mitigatied_value[0].real)"
   ]
  },
  {
   "cell_type": "markdown",
   "metadata": {},
   "source": [
    "Fakemontreal"
   ]
  },
  {
   "cell_type": "code",
   "execution_count": 30,
   "metadata": {},
   "outputs": [],
   "source": [
    "with open(path_noise_model['montreal'], 'rb') as file:\n",
    "    noise_model = pickle.load(file)\n",
    "noise_model1 = noise.NoiseModel()\n",
    "noise_modelreal = noise_model1.from_dict(noise_model)\n",
    "sampler_noisy = Sampler(\n",
    "    backend_options = {\n",
    "        'method': 'statevector',\n",
    "        'device': 'CPU',\n",
    "        'noise_model': noise_modelreal,\n",
    "    },\n",
    "    run_options = {\n",
    "        'shots': shot,\n",
    "        'seed': seeds\n",
    "    },\n",
    "    transpile_options = {\n",
    "        'seed_transpiler':seed_transpiler,\n",
    "        'optimization_level':0,\n",
    "    }\n",
    ")"
   ]
  },
  {
   "cell_type": "code",
   "execution_count": 31,
   "metadata": {},
   "outputs": [
    {
     "name": "stdout",
     "output_type": "stream",
     "text": [
      "before mitgate : -78.72197097612847\n",
      "after mitigate :  -78.72185556162047\n"
     ]
    }
   ],
   "source": [
    "qc = QuantumCircuit.from_qasm_file(os.path.join(dir_qasm, 'montreal_QASM'))\n",
    "ansatz_hardware = transpile(ansatz_noisy,backend=FakeMontreal(),optimization_level=3)\n",
    "### our optimized location\n",
    "qubit_location = [24, 0, 1, 23, 12, 10]\n",
    "res = Q.expectation_value_circ_err_mit([0,0],qc,g_ham_noisy,sampler_noisy,qubit_location, noise_modelreal, True, True)\n",
    "## get result before REM\n",
    "print(\"before mitgate :\",res)\n",
    "\n",
    "## REM\n",
    "Ref_value = Q.hatree_value(hatree,taper_ham) ## calculate classcially (Cost O(N^2))\n",
    "Correct_factor = Ref_value - Q.expectation_value_circ_err_mit([0,0],ansatz_noisy,g_ham_noisy,sampler_noisy,qubit_location, noise_modelreal, True, True)\n",
    "Mitigatied_value =  res + Correct_factor \n",
    "\n",
    "print(\"after mitigate : \",Mitigatied_value[0].real)"
   ]
  },
  {
   "cell_type": "markdown",
   "metadata": {},
   "source": [
    "Fakekolkata"
   ]
  },
  {
   "cell_type": "code",
   "execution_count": 32,
   "metadata": {},
   "outputs": [],
   "source": [
    "with open(path_noise_model['kolkata'], 'rb') as file:\n",
    "    noise_model = pickle.load(file)\n",
    "noise_model1 = noise.NoiseModel()\n",
    "noise_modelreal = noise_model1.from_dict(noise_model)\n",
    "sampler_noisy = Sampler(\n",
    "    backend_options = {\n",
    "        'method': 'statevector',\n",
    "        'device': 'CPU',\n",
    "        'noise_model': noise_modelreal,\n",
    "    },\n",
    "    run_options = {\n",
    "        'shots': shot,\n",
    "        'seed': seeds,\n",
    "    },\n",
    "    transpile_options = {\n",
    "        'seed_transpiler':seed_transpiler,\n",
    "        'optimization_level':0,\n",
    "    }\n",
    ")"
   ]
  },
  {
   "cell_type": "code",
   "execution_count": 33,
   "metadata": {},
   "outputs": [
    {
     "name": "stdout",
     "output_type": "stream",
     "text": [
      "before mitgate : -78.26180844108873\n",
      "after mitigate :  -78.70933876132801\n"
     ]
    }
   ],
   "source": [
    "qc = QuantumCircuit.from_qasm_file(os.path.join(dir_qasm, 'kolkata_QASM'))\n",
    "ansatz_hardware = transpile(ansatz_noisy,backend=FakeKolkata(),optimization_level=3)\n",
    "### our optimized location\n",
    "qubit_location = [16, 0, 1, 14, 25, 24]\n",
    "    \n",
    "res = Q.expectation_value_circ_err_mit([0,0],qc,g_ham_noisy,sampler_noisy,qubit_location, noise_modelreal, True, True)\n",
    "## get result before REM\n",
    "print(\"before mitgate :\",res)\n",
    "\n",
    "## REM\n",
    "Ref_value = Q.hatree_value(hatree,taper_ham) ## calculate classcially (Cost O(N^2))\n",
    "Correct_factor = Ref_value - Q.expectation_value_circ_err_mit([0,0],ansatz_noisy,g_ham_noisy,sampler_noisy,qubit_location, noise_modelreal, True, True)\n",
    "Mitigatied_value =  res + Correct_factor \n",
    "\n",
    "print(\"after mitigate : \",Mitigatied_value[0].real)"
   ]
  }
 ],
 "metadata": {
  "kernelspec": {
   "display_name": "LEE",
   "language": "python",
   "name": "python3"
  },
  "language_info": {
   "codemirror_mode": {
    "name": "ipython",
    "version": 3
   },
   "file_extension": ".py",
   "mimetype": "text/x-python",
   "name": "python",
   "nbconvert_exporter": "python",
   "pygments_lexer": "ipython3",
   "version": "3.11.5"
  },
  "orig_nbformat": 4
 },
 "nbformat": 4,
 "nbformat_minor": 2
}
