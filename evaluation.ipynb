{
 "cells": [
  {
   "cell_type": "code",
   "execution_count": 1,
   "metadata": {},
   "outputs": [],
   "source": [
    "import warnings\n",
    "warnings.filterwarnings('ignore')\n",
    "\n",
    "import os\n",
    "import pickle\n",
    "import numpy as np\n",
    "import matplotlib.pyplot as plt\n",
    "\n",
    "from qiskit_nature.units import DistanceUnit\n",
    "from qiskit_nature.second_q.drivers import PySCFDriver\n",
    "from qiskit_nature.second_q.mappers import JordanWignerMapper\n",
    "\n",
    "from qiskit import Aer, QuantumCircuit, transpile, pulse\n",
    "from qiskit_aer.primitives import Sampler\n",
    "from qiskit.utils import algorithm_globals\n",
    "from qiskit.providers.fake_provider import *\n",
    "import qiskit_aer.noise as noise\n",
    "from qiskit.circuit.library import *"
   ]
  },
  {
   "cell_type": "code",
   "execution_count": 2,
   "metadata": {},
   "outputs": [],
   "source": [
    "import Qubit_taper as Q"
   ]
  },
  {
   "cell_type": "code",
   "execution_count": 3,
   "metadata": {},
   "outputs": [],
   "source": [
    "path_hamiltonian = 'hamiltonian/OHhamiltonian.txt'\n",
    "path_noise_model = {\n",
    "  'cairo': 'noise_model/fakecairo.pkl',\n",
    "  'montreal': 'noise_model/fakemontreal.pkl',\n",
    "  'kolkata': 'noise_model/fakekolkata.pkl'\n",
    "}\n",
    "path_seeds = 'algorithm_seeds/requiredseeds.txt'\n",
    "dir_qasm = 'qasm'"
   ]
  },
  {
   "cell_type": "markdown",
   "metadata": {},
   "source": [
    "## Extract the hamiltonian"
   ]
  },
  {
   "cell_type": "code",
   "execution_count": 4,
   "metadata": {},
   "outputs": [],
   "source": [
    "try:\n",
    "    with open(path_hamiltonian, 'r') as file:\n",
    "        file_contents = file.read()\n",
    "except FileNotFoundError:\n",
    "    print(f\"Can't find the file: {path_hamiltonian}\")\n",
    "except Exception as e:\n",
    "    print(f\"Can't read the file: {str(e)}\")"
   ]
  },
  {
   "cell_type": "code",
   "execution_count": 5,
   "metadata": {},
   "outputs": [],
   "source": [
    "hamiltonian = Q.extract(file_contents,12)\n",
    "taper_ham, hatree = Q.taper_X_remove(hamiltonian,3,(5,4))\n",
    "taper_ham_exchange = Q.Z_exchange(taper_ham)\n",
    "g_ham = Q.group_ham(taper_ham_exchange)"
   ]
  },
  {
   "cell_type": "code",
   "execution_count": 6,
   "metadata": {},
   "outputs": [
    {
     "name": "stdout",
     "output_type": "stream",
     "text": [
      "Observation number before :  101\n",
      "Observation number grouping :  19\n"
     ]
    }
   ],
   "source": [
    "print(\"Observation number before : \",len(taper_ham))\n",
    "print(\"Observation number grouping : \",len(g_ham))"
   ]
  },
  {
   "cell_type": "markdown",
   "metadata": {},
   "source": [
    "## Evaluation"
   ]
  },
  {
   "cell_type": "markdown",
   "metadata": {},
   "source": [
    "### Custom sampler for exact shot counting"
   ]
  },
  {
   "cell_type": "code",
   "execution_count": 7,
   "metadata": {},
   "outputs": [],
   "source": [
    "class CountingSampler(Sampler):\n",
    "    def __init__(self, *args, **kwargs):\n",
    "        super().__init__(*args, **kwargs)\n",
    "        self._count = 0\n",
    "\n",
    "    def run(self, circuits, *args, **kwargs):\n",
    "        if isinstance(circuits, list):\n",
    "            self._count += len(circuits)\n",
    "        else:\n",
    "            self._count += 1\n",
    "        return super().run(circuits, *args, **kwargs)\n",
    "\n",
    "    @property\n",
    "    def run_count(self):\n",
    "        return self._count\n",
    "    \n",
    "    @property\n",
    "    def shot_count(self):\n",
    "        return self._count * self.options.shots"
   ]
  },
  {
   "cell_type": "markdown",
   "metadata": {},
   "source": [
    "### Some helpful functions"
   ]
  },
  {
   "cell_type": "code",
   "execution_count": 8,
   "metadata": {},
   "outputs": [],
   "source": [
    "def calculate_metric(my_value):\n",
    "    ref_value = -74.38714627\n",
    "    nuclear_repulsion_energy = 4.36537496654537\n",
    "    result = my_value + nuclear_repulsion_energy\n",
    "    error_rate = (1 - abs((ref_value - result) / ref_value)) * 100\n",
    "    return error_rate\n",
    "\n",
    "def calculate_pulse(circuit, backend):\n",
    "    with pulse.build(backend) as my_program:\n",
    "        pulse.call(circuit)\n",
    "    return my_program.duration\n",
    "\n",
    "def get_noise_model(file_path):\n",
    "    with open(file_path, 'rb') as file:\n",
    "        noise_model_dict = pickle.load(file)\n",
    "    return noise.NoiseModel.from_dict(noise_model_dict)"
   ]
  },
  {
   "cell_type": "code",
   "execution_count": 9,
   "metadata": {},
   "outputs": [],
   "source": [
    "from dataclasses import dataclass\n",
    "\n",
    "@dataclass\n",
    "class Device:\n",
    "    noise_model: noise.NoiseModel\n",
    "    backend: FakeBackend\n",
    "    qubit_location: list\n",
    "\n",
    "backend_map = {\n",
    "  'cairo': Device(\n",
    "      get_noise_model(path_noise_model['cairo']), \n",
    "      FakeCairo(), \n",
    "      [24, 0, 1, 23, 12, 10]\n",
    "  ),\n",
    "  'montreal': Device(\n",
    "      get_noise_model(path_noise_model['montreal']), \n",
    "      FakeMontreal(), \n",
    "      [24, 0, 1, 23, 12, 10]\n",
    "  ),\n",
    "  'kolkata': Device(\n",
    "      get_noise_model(path_noise_model['kolkata']), \n",
    "      FakeKolkata(), \n",
    "      [16, 0, 1, 14, 25, 24]\n",
    "  ),\n",
    "}"
   ]
  },
  {
   "cell_type": "markdown",
   "metadata": {},
   "source": [
    "### Run the evaluation"
   ]
  },
  {
   "cell_type": "code",
   "execution_count": 10,
   "metadata": {},
   "outputs": [],
   "source": [
    "with open(path_seeds, 'r') as file:\n",
    "    seed_list = file.read().replace(',', '').split('\\n')\n",
    "seed_list = [int(seed) for seed in seed_list if seed]\n",
    "\n",
    "shot = 47368 "
   ]
  },
  {
   "cell_type": "code",
   "execution_count": 11,
   "metadata": {},
   "outputs": [
    {
     "name": "stdout",
     "output_type": "stream",
     "text": [
      "Backend: cairo\n",
      "  Seed: 20\n",
      "shot:  1799984\n",
      "    Exp value (noisy):  -78.56275612591322\n",
      "    Exp value (mitigated):  -78.70870653629866\n",
      "  Seed: 21\n",
      "shot:  1799984\n",
      "    Exp value (noisy):  -78.56275290866832\n",
      "    Exp value (mitigated):  -78.70870681948914\n",
      "  Seed: 30\n",
      "shot:  1799984\n",
      "    Exp value (noisy):  -78.56274649230312\n",
      "    Exp value (mitigated):  -78.70877519518886\n",
      "  Seed: 33\n",
      "shot:  1799984\n",
      "    Exp value (noisy):  -78.56267489245363\n",
      "    Exp value (mitigated):  -78.70877793710113\n",
      "  Seed: 36\n",
      "shot:  1799984\n",
      "    Exp value (noisy):  -78.56255327861443\n",
      "    Exp value (mitigated):  -78.7086661259884\n",
      "  Seed: 42\n",
      "shot:  1799984\n",
      "    Exp value (noisy):  -78.56250763177118\n",
      "    Exp value (mitigated):  -78.7090072995144\n",
      "  Seed: 43\n",
      "shot:  1799984\n",
      "    Exp value (noisy):  -78.56249710589834\n",
      "    Exp value (mitigated):  -78.7090045574478\n",
      "  Seed: 55\n",
      "shot:  1799984\n",
      "    Exp value (noisy):  -78.56176609563524\n",
      "    Exp value (mitigated):  -78.70893523989469\n",
      "  Seed: 67\n",
      "shot:  1799984\n",
      "    Exp value (noisy):  -78.5623771338728\n",
      "    Exp value (mitigated):  -78.70888747650795\n",
      "  Seed: 170\n",
      "shot:  1799984\n",
      "    Exp value (noisy):  -78.56293612705738\n",
      "    Exp value (mitigated):  -78.7085351326892\n",
      "Backend: montreal\n",
      "  Seed: 20\n",
      "shot:  1799984\n",
      "    Exp value (noisy):  -78.7248217802703\n",
      "    Exp value (mitigated):  -78.72368909333382\n",
      "  Seed: 21\n",
      "shot:  1799984\n",
      "    Exp value (noisy):  -78.72482298640372\n",
      "    Exp value (mitigated):  -78.72369548945501\n",
      "  Seed: 30\n",
      "shot:  1799984\n",
      "    Exp value (noisy):  -78.7247725843358\n",
      "    Exp value (mitigated):  -78.723672194242\n",
      "  Seed: 33\n",
      "shot:  1799984\n",
      "    Exp value (noisy):  -78.72468127712627\n",
      "    Exp value (mitigated):  -78.72359688531056\n",
      "  Seed: 36\n",
      "shot:  1799984\n",
      "    Exp value (noisy):  -78.72470119269275\n",
      "    Exp value (mitigated):  -78.72364124558099\n",
      "  Seed: 42\n",
      "shot:  1799984\n",
      "    Exp value (noisy):  -78.72471785967294\n",
      "    Exp value (mitigated):  -78.72367435230956\n",
      "  Seed: 43\n",
      "shot:  1799984\n",
      "    Exp value (noisy):  -78.724705765099\n",
      "    Exp value (mitigated):  -78.72367254817243\n",
      "  Seed: 55\n",
      "shot:  1799984\n",
      "    Exp value (noisy):  -78.72475463543192\n",
      "    Exp value (mitigated):  -78.72376372050736\n",
      "  Seed: 67\n",
      "shot:  1799984\n",
      "    Exp value (noisy):  -78.72482639041333\n",
      "    Exp value (mitigated):  -78.7237628958567\n",
      "  Seed: 170\n",
      "shot:  1799984\n",
      "    Exp value (noisy):  -78.72455804283135\n",
      "    Exp value (mitigated):  -78.72367359101372\n",
      "Backend: kolkata\n",
      "  Seed: 20\n",
      "shot:  1799984\n",
      "    Exp value (noisy):  -78.23490221692856\n",
      "    Exp value (mitigated):  -78.69284127341193\n",
      "  Seed: 21\n",
      "shot:  1799984\n",
      "    Exp value (noisy):  -78.23492055247051\n",
      "    Exp value (mitigated):  -78.69286472702416\n",
      "  Seed: 30\n",
      "shot:  1799984\n",
      "    Exp value (noisy):  -78.2348208253891\n",
      "    Exp value (mitigated):  -78.6928025646231\n",
      "  Seed: 33\n",
      "shot:  1799984\n",
      "    Exp value (noisy):  -78.23472842149762\n",
      "    Exp value (mitigated):  -78.6927798942264\n",
      "  Seed: 36\n",
      "shot:  1799984\n",
      "    Exp value (noisy):  -78.23458562824968\n",
      "    Exp value (mitigated):  -78.69264268742359\n",
      "  Seed: 42\n",
      "shot:  1799984\n",
      "    Exp value (noisy):  -78.23441179011421\n",
      "    Exp value (mitigated):  -78.69292462855478\n",
      "  Seed: 43\n",
      "shot:  1799984\n",
      "    Exp value (noisy):  -78.23439870190609\n",
      "    Exp value (mitigated):  -78.69292112871624\n",
      "  Seed: 55\n",
      "shot:  1799984\n",
      "    Exp value (noisy):  -78.23341973702048\n",
      "    Exp value (mitigated):  -78.69291139159961\n",
      "  Seed: 67\n",
      "shot:  1799984\n",
      "    Exp value (noisy):  -78.23375136154145\n",
      "    Exp value (mitigated):  -78.69269186962711\n",
      "  Seed: 170\n",
      "shot:  1799984\n",
      "    Exp value (noisy):  -78.23627165703124\n",
      "    Exp value (mitigated):  -78.69213932013685\n"
     ]
    }
   ],
   "source": [
    "result_list = []\n",
    "\n",
    "for name, device in backend_map.items():\n",
    "    print(f\"Backend: {name}\")\n",
    "\n",
    "    path_qasm = os.path.join(dir_qasm, f'{name}_QASM')\n",
    "    path_ref_qasm = os.path.join(dir_qasm, f'{name}_ref_QASM')\n",
    "\n",
    "    circuit = QuantumCircuit.from_qasm_file(path_qasm)\n",
    "    ref_circuit = QuantumCircuit.from_qasm_file(path_ref_qasm)\n",
    "    \n",
    "    ## calculate classcially (Cost O(N^2))\n",
    "    ref_value_ideal = Q.hatree_value(hatree,taper_ham) \n",
    "\n",
    "    for seed in seed_list:\n",
    "        print(f\"  Seed: {seed}\")\n",
    "\n",
    "        algorithm_globals.random_seed = seed\n",
    "        seed_transpiler = seed\n",
    "\n",
    "        sampler_noisy = CountingSampler(\n",
    "            backend_options = {\n",
    "                'method': 'statevector',\n",
    "                'device': 'CPU',\n",
    "                'noise_model': device.noise_model,\n",
    "            },\n",
    "            run_options = {\n",
    "                'shots': shot,\n",
    "                'seed': seed,\n",
    "            },\n",
    "            transpile_options = {\n",
    "                'seed_transpiler':seed_transpiler,\n",
    "                'optimization_level':0,\n",
    "            }\n",
    "        )\n",
    "\n",
    "        ## noisy expectation value at reference state (hartree)\n",
    "        ref_value_noisy = Q.expectation_value_circ_err_mit(\n",
    "            para=None,\n",
    "            ansatz=ref_circuit,\n",
    "            g_ham=g_ham,\n",
    "            sampler=sampler_noisy,\n",
    "            qubits=device.qubit_location, \n",
    "            noise_model=device.noise_model, \n",
    "            err_mit=True, \n",
    "            nearest_prob_dists=True\n",
    "        )\n",
    "        \n",
    "        ## noisy expectation value at optimized point\n",
    "        expval = Q.expectation_value_circ_err_mit(\n",
    "            para=None,\n",
    "            ansatz=circuit,\n",
    "            g_ham=g_ham,\n",
    "            sampler=sampler_noisy,\n",
    "            qubits=device.qubit_location, \n",
    "            noise_model=device.noise_model, \n",
    "            err_mit=True, \n",
    "            nearest_prob_dists=True\n",
    "        )\n",
    "        \n",
    "        # reference state error mitigation\n",
    "        correct_factor = (ref_value_ideal - ref_value_noisy).item().real\n",
    "        mitigated_value = expval + correct_factor\n",
    "\n",
    "        print('shot: ', sampler_noisy.shot_count)\n",
    "        print('    Exp value (noisy): ', expval)\n",
    "        print('    Exp value (mitigated): ', mitigated_value)\n",
    "\n",
    "        result = {\n",
    "            'backend': name,\n",
    "            'seed': seed,\n",
    "            'expval': mitigated_value,\n",
    "            'metric': calculate_metric(mitigated_value),\n",
    "            'duration': calculate_pulse(circuit, device.backend),\n",
    "            'shot': sampler_noisy.shot_count,\n",
    "        }\n",
    "        result_list.append(result)"
   ]
  },
  {
   "cell_type": "markdown",
   "metadata": {},
   "source": [
    "### Save (or load) the results"
   ]
  },
  {
   "cell_type": "code",
   "execution_count": 12,
   "metadata": {},
   "outputs": [],
   "source": [
    "import json\n",
    "with open('result.json', 'w') as file:\n",
    "    json.dump(result_list, file, indent=4)\n",
    "\n",
    "# with open('result.json', 'r') as file:\n",
    "#     result_list = json.load(file)"
   ]
  },
  {
   "cell_type": "markdown",
   "metadata": {},
   "source": [
    "### Calculate the average expectation value and final metric"
   ]
  },
  {
   "cell_type": "code",
   "execution_count": 13,
   "metadata": {},
   "outputs": [
    {
     "name": "stdout",
     "output_type": "stream",
     "text": [
      "{'cairo': -78.70880023201202, 'montreal': -78.72368420157821, 'kolkata': -78.69275194853438}\n"
     ]
    }
   ],
   "source": [
    "expval = {\n",
    "    'cairo': 0,\n",
    "    'montreal': 0,\n",
    "    'kolkata': 0,\n",
    "}\n",
    "\n",
    "for result in result_list:\n",
    "    for backend in expval.keys():\n",
    "        if result['backend'] == backend:\n",
    "            expval[backend] += result['expval']\n",
    "\n",
    "for backend in expval.keys():\n",
    "    expval[backend] /= len(seed_list)\n",
    "\n",
    "print(expval)"
   ]
  },
  {
   "cell_type": "code",
   "execution_count": 14,
   "metadata": {},
   "outputs": [
    {
     "name": "stdout",
     "output_type": "stream",
     "text": [
      "Backend: cairo\n",
      "  Avg. expval: -78.70880023201202\n",
      "  Metric: 99.94122505469606 (%)\n",
      "Backend: montreal\n",
      "  Avg. expval: -78.72368420157821\n",
      "  Metric: 99.96123384695724 (%)\n",
      "Backend: kolkata\n",
      "  Avg. expval: -78.69275194853438\n",
      "  Metric: 99.91965105396831 (%)\n"
     ]
    }
   ],
   "source": [
    "for backend in expval.keys():\n",
    "    metric = calculate_metric(expval[backend])\n",
    "    print(f\"Backend: {backend}\")\n",
    "    print(f\"  Avg. expval: {expval[backend]}\")\n",
    "    print(f\"  Metric: {metric} (%)\")"
   ]
  }
 ],
 "metadata": {
  "kernelspec": {
   "display_name": "LEE",
   "language": "python",
   "name": "python3"
  },
  "language_info": {
   "codemirror_mode": {
    "name": "ipython",
    "version": 3
   },
   "file_extension": ".py",
   "mimetype": "text/x-python",
   "name": "python",
   "nbconvert_exporter": "python",
   "pygments_lexer": "ipython3",
   "version": "3.11.5"
  },
  "orig_nbformat": 4
 },
 "nbformat": 4,
 "nbformat_minor": 2
}
